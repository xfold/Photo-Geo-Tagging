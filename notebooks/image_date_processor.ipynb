{
 "cells": [
  {
   "cell_type": "code",
   "execution_count": 1,
   "metadata": {},
   "outputs": [],
   "source": [
    "import sys\n",
    "import os\n",
    "\n",
    "# Add src directory to the Python path\n",
    "sys.path.append(os.path.abspath('../src'))\n",
    "\n",
    "from ImageProcessor import ImageProcessor"
   ]
  },
  {
   "cell_type": "code",
   "execution_count": null,
   "metadata": {},
   "outputs": [],
   "source": [
    "# Example usage:\n",
    "processor = ImageProcessor()\n",
    "filters = ['jpg', 'jpeg']\n",
    "folder_path = '/pictokeep_clean/'\n",
    "folder_path_exif = '/pictokeep_clean_exif/'\n",
    "\n",
    "processor.process_images_with_exif(folder_path, folder_path_exif, filters, verbose=True)"
   ]
  }
 ],
 "metadata": {
  "kernelspec": {
   "display_name": ".venv",
   "language": "python",
   "name": "python3"
  },
  "language_info": {
   "codemirror_mode": {
    "name": "ipython",
    "version": 3
   },
   "file_extension": ".py",
   "mimetype": "text/x-python",
   "name": "python",
   "nbconvert_exporter": "python",
   "pygments_lexer": "ipython3",
   "version": "3.9.5"
  }
 },
 "nbformat": 4,
 "nbformat_minor": 2
}
