{
 "cells": [
  {
   "cell_type": "markdown",
   "metadata": {},
   "source": [
    "# Find similar pictures in a directory\n",
    "This notebooks shows how to find similar pictures in a directory using a pre-trained deep learning model that transforms\n",
    "images into embeddings. The embeddings are then used to find similar images in the directory."
   ]
  },
  {
   "cell_type": "code",
   "execution_count": 5,
   "metadata": {},
   "outputs": [
    {
     "ename": "ModuleNotFoundError",
     "evalue": "No module named 'ImageEmbedder'",
     "output_type": "error",
     "traceback": [
      "\u001b[1;31m---------------------------------------------------------------------------\u001b[0m",
      "\u001b[1;31mModuleNotFoundError\u001b[0m                       Traceback (most recent call last)",
      "Cell \u001b[1;32mIn[5], line 10\u001b[0m\n\u001b[0;32m      7\u001b[0m \u001b[38;5;28;01mfrom\u001b[39;00m \u001b[38;5;21;01mPIL\u001b[39;00m \u001b[38;5;28;01mimport\u001b[39;00m Image\n\u001b[0;32m      8\u001b[0m \u001b[38;5;28;01mimport\u001b[39;00m \u001b[38;5;21;01mpandas\u001b[39;00m \u001b[38;5;28;01mas\u001b[39;00m \u001b[38;5;21;01mpd\u001b[39;00m\n\u001b[1;32m---> 10\u001b[0m \u001b[38;5;28;01mfrom\u001b[39;00m \u001b[38;5;21;01mImageEmbedder\u001b[39;00m \u001b[38;5;28;01mimport\u001b[39;00m ImageEmbedder\n\u001b[0;32m     11\u001b[0m \u001b[38;5;28;01mfrom\u001b[39;00m \u001b[38;5;21;01mEmbeddingRetriever\u001b[39;00m \u001b[38;5;28;01mimport\u001b[39;00m EmbeddingRetriever\n\u001b[0;32m     12\u001b[0m \u001b[38;5;28;01mfrom\u001b[39;00m \u001b[38;5;21;01mIPython\u001b[39;00m\u001b[38;5;21;01m.\u001b[39;00m\u001b[38;5;21;01mdisplay\u001b[39;00m \u001b[38;5;28;01mimport\u001b[39;00m display, Image\n",
      "\u001b[1;31mModuleNotFoundError\u001b[0m: No module named 'ImageEmbedder'"
     ]
    }
   ],
   "source": [
    "import os\n",
    "import sys\n",
    "\n",
    "# Add src directory to the Python path\n",
    "sys.path.append(os.path.abspath('../src'))\n",
    "\n",
    "from PIL import Image\n",
    "import pandas as pd\n",
    "\n",
    "from src.ImageEmbedder import ImageEmbedder\n",
    "from src.EmbeddingRetriever import EmbeddingRetriever\n",
    "from IPython.display import display, Image"
   ]
  },
  {
   "cell_type": "markdown",
   "metadata": {},
   "source": [
    "# Create image embeddings"
   ]
  },
  {
   "cell_type": "code",
   "execution_count": null,
   "metadata": {},
   "outputs": [],
   "source": [
    "path = \"C:/Users/User/Desktop/toprocess\"\n",
    "ie = ImageEmbedder()"
   ]
  },
  {
   "cell_type": "code",
   "execution_count": 3,
   "metadata": {},
   "outputs": [],
   "source": [
    "# List all image files in the folder based on allowed extensions\n",
    "def list_images_with_full_path(folder_path, allowed_extensions = ['.jpg', '.jpeg', '.png', '.gif', '.bmp', '.tiff']):\n",
    "    image_files = [os.path.join(os.path.abspath(folder_path), f) \n",
    "                   for f in os.listdir(folder_path) \n",
    "                   if os.path.splitext(f)[1].lower() in allowed_extensions]\n",
    "    return image_files\n",
    "\n",
    "img_paths = list_images_with_full_path(path)"
   ]
  },
  {
   "cell_type": "code",
   "execution_count": null,
   "metadata": {},
   "outputs": [],
   "source": [
    "# create and store all embeddings\n",
    "for img_path in img_paths:\n",
    "    ie.get_embedding(img_path)\n",
    "ie.save_embeddings(\"data/embeddings.parquet\")"
   ]
  },
  {
   "cell_type": "markdown",
   "metadata": {},
   "source": [
    "# Find similar images"
   ]
  },
  {
   "cell_type": "code",
   "execution_count": 5,
   "metadata": {},
   "outputs": [],
   "source": [
    "embeddings_df = pd.read_parquet(\"data/embeddings.parquet\")\n",
    "retriever = EmbeddingRetriever(embeddings_df)"
   ]
  },
  {
   "cell_type": "code",
   "execution_count": null,
   "metadata": {},
   "outputs": [],
   "source": [
    "df_similar_images = retriever.update_similar_images(output_file='data/similar_images.parquet')\n",
    "df_similar_imagesb"
   ]
  },
  {
   "cell_type": "code",
   "execution_count": null,
   "metadata": {},
   "outputs": [],
   "source": [
    "# find similar images to a given image\n",
    "\n",
    "def display_similar_images(path):\n",
    "    display(Image(filename=path, width=200))\n",
    "    print(f\"Image: {path}\")\n",
    "\n",
    "    similar_images = retriever.find_similar_embeddings(path)\n",
    "    for fpath, sim, embedding in similar_images:\n",
    "        display(Image(filename=fpath, width=200))\n",
    "        print(f\"Similarity: {sim:.2f}, Embedding: {embedding[:5]}...\")\n",
    "\n",
    "\n",
    "# Call the function to display similar images\n",
    "image_path = \"image_path\"\n",
    "display_similar_images(image_path)"
   ]
  },
  {
   "cell_type": "code",
   "execution_count": null,
   "metadata": {},
   "outputs": [],
   "source": []
  }
 ],
 "metadata": {
  "kernelspec": {
   "display_name": ".venv",
   "language": "python",
   "name": "python3"
  },
  "language_info": {
   "codemirror_mode": {
    "name": "ipython",
    "version": 3
   },
   "file_extension": ".py",
   "mimetype": "text/x-python",
   "name": "python",
   "nbconvert_exporter": "python",
   "pygments_lexer": "ipython3",
   "version": "3.9.5"
  }
 },
 "nbformat": 4,
 "nbformat_minor": 2
}
