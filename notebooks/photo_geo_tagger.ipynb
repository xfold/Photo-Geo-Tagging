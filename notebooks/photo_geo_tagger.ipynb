{
 "cells": [
  {
   "cell_type": "code",
   "execution_count": 7,
   "metadata": {},
   "outputs": [],
   "source": [
    "import sys\n",
    "import os\n",
    "\n",
    "# Add src directory to the Python path\n",
    "sys.path.append(os.path.abspath('../src'))\n",
    "\n",
    "import utils_photo_geo_tagger"
   ]
  },
  {
   "cell_type": "markdown",
   "metadata": {},
   "source": [
    "# 1. First we generate the exif map with locations based on our pictures with EXIF info"
   ]
  },
  {
   "cell_type": "code",
   "execution_count": null,
   "metadata": {},
   "outputs": [],
   "source": [
    "camera_roll_example_path = '/pictokeep_clean/'\n",
    "df = photo_geo_tagger.create_exif_map(camera_roll_example_path, \n",
    "                min_gps_threshold_similar=3,\n",
    "                min_seconds_threshold_similar=1800, \n",
    "                output_exif_map='/location_mapping.csv',\n",
    "                name_filters_l=['.jpg', '.jpeg'],\n",
    "                copy_grouped_pics_path=None)"
   ]
  },
  {
   "cell_type": "markdown",
   "metadata": {},
   "source": [
    "# 2. Then we map the EXIF data into the new pictures, and clone them in a new folder"
   ]
  },
  {
   "cell_type": "code",
   "execution_count": null,
   "metadata": {},
   "outputs": [],
   "source": [
    "photo_geo_tagger.map_images('/pictokeep_clean/',\n",
    "               \"/pictokeep_clean_exif/\",\n",
    "               name_filters_l = ['.jpg', '.jpeg'],\n",
    "               location_mapping_csv = \"location_mapping.csv\",\n",
    "              )"
   ]
  }
 ],
 "metadata": {
  "kernelspec": {
   "display_name": ".venv",
   "language": "python",
   "name": "python3"
  },
  "language_info": {
   "codemirror_mode": {
    "name": "ipython",
    "version": 3
   },
   "file_extension": ".py",
   "mimetype": "text/x-python",
   "name": "python",
   "nbconvert_exporter": "python",
   "pygments_lexer": "ipython3",
   "version": "3.9.5"
  },
  "orig_nbformat": 4
 },
 "nbformat": 4,
 "nbformat_minor": 2
}
