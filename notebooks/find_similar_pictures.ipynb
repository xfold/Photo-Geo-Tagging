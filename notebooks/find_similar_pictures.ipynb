{
 "cells": [
  {
   "cell_type": "markdown",
   "metadata": {},
   "source": [
    "# Find similar pictures in a directory\n",
    "This notebooks shows how to find similar pictures in a directory using a pre-trained deep learning model that transforms\n",
    "images into embeddings. The embeddings are then used to find similar images in the directory."
   ]
  },
  {
   "cell_type": "code",
   "execution_count": 1,
   "metadata": {},
   "outputs": [],
   "source": [
    "import os\n",
    "import sys\n",
    "\n",
    "# Add src directory to the Python path\n",
    "sys.path.append(os.path.abspath('../src'))\n",
    "\n",
    "from PIL import Image\n",
    "import pandas as pd\n",
    "\n",
    "from ImageEmbedder import ImageEmbedder\n",
    "from EmbeddingRetriever import EmbeddingRetriever\n",
    "import matplotlib.pyplot as plt\n",
    "from IPython.display import display\n",
    "from PIL import Image"
   ]
  },
  {
   "cell_type": "markdown",
   "metadata": {},
   "source": [
    "# Create image embeddings"
   ]
  },
  {
   "cell_type": "code",
   "execution_count": null,
   "metadata": {},
   "outputs": [],
   "source": [
    "path = \"C:/Users/User/Desktop/toprocess\"\n",
    "ie = ImageEmbedder()"
   ]
  },
  {
   "cell_type": "code",
   "execution_count": 3,
   "metadata": {},
   "outputs": [],
   "source": [
    "# List all image files in the folder based on allowed extensions\n",
    "def list_images_with_full_path(folder_path, allowed_extensions = ['.jpg', '.jpeg', '.png', '.gif', '.bmp', '.tiff']):\n",
    "    image_files = [os.path.join(os.path.abspath(folder_path), f) \n",
    "                   for f in os.listdir(folder_path) \n",
    "                   if os.path.splitext(f)[1].lower() in allowed_extensions]\n",
    "    return image_files\n",
    "\n",
    "img_paths = list_images_with_full_path(path)"
   ]
  },
  {
   "cell_type": "code",
   "execution_count": null,
   "metadata": {},
   "outputs": [],
   "source": [
    "# create and store all embeddings\n",
    "for img_path in img_paths:\n",
    "    ie.get_embedding(img_path)\n",
    "ie.save_embeddings(\"../data/embeddings.parquet\")"
   ]
  },
  {
   "cell_type": "markdown",
   "metadata": {},
   "source": [
    "# Find similar images"
   ]
  },
  {
   "cell_type": "code",
   "execution_count": 5,
   "metadata": {},
   "outputs": [],
   "source": [
    "# laod the embeddings\n",
    "embeddings_df = pd.read_parquet(\"../data/embeddings.parquet\")\n",
    "# create the retriever\n",
    "retriever = EmbeddingRetriever(embeddings_df)\n",
    "# calculate the similar images\n",
    "df_similar_images = retriever.update_similar_images(output_file='../data/similar_images.parquet')\n",
    "df_similar_images"
   ]
  },
  {
   "cell_type": "code",
   "execution_count": 7,
   "metadata": {},
   "outputs": [],
   "source": [
    "def list_images_in_folder(folder_path: str, filter_extensions: list = None) -> list:\n",
    "    \"\"\"\n",
    "    List all image files in the specified folder.\n",
    "\n",
    "    Args:\n",
    "        folder_path (str): The path to the folder where images are located.\n",
    "        filter_extensions (list): A list of file extensions to filter (e.g., ['jpg', 'jpeg', 'png']).\n",
    "\n",
    "    Returns:\n",
    "        list: A list of image file paths.\n",
    "    \"\"\"\n",
    "    if filter_extensions is None:\n",
    "        filter_extensions = ['jpg', 'jpeg', 'png', 'gif', 'bmp', 'tiff']\n",
    "\n",
    "    # Convert extensions to lowercase for consistent matching\n",
    "    filter_extensions = [ext.lower() for ext in filter_extensions]\n",
    "    image_files = []\n",
    "\n",
    "    # Iterate through the folder\n",
    "    for filename in os.listdir(folder_path):\n",
    "        ext = filename.split('.')[-1].lower()\n",
    "        if ext in filter_extensions:\n",
    "            image_files.append(os.path.join(folder_path, filename))\n",
    "\n",
    "    return image_files\n",
    "\n",
    "def display_similar_images(path):\n",
    "    \"\"\"\n",
    "    Displays the original image first, followed by similar images in a single row.\n",
    "    Resizes all images to have a maximum dimension of 200 pixels (width or height).\n",
    "    \n",
    "    Args:\n",
    "        path (str): The path to the original image.\n",
    "    \"\"\"\n",
    "    def resize_image(img_path, max_size=200):\n",
    "        img = Image.open(img_path)\n",
    "        img.thumbnail((max_size, max_size))  # Resize with max width or height of 200\n",
    "        return img\n",
    "\n",
    "    # Display the original image\n",
    "    print(f\"Original Image: {path}\")\n",
    "    original_img = resize_image(path)\n",
    "    display(original_img)\n",
    "\n",
    "    # Retrieve similar images\n",
    "    similar_images = retriever.find_similar_embeddings(path)\n",
    "    \n",
    "    # Set up a figure to display the images in one row\n",
    "    num_images = len(similar_images)\n",
    "    if num_images == 0:\n",
    "        print(\"No similar images found.\")\n",
    "        return\n",
    "    fig, axes = plt.subplots(1, num_images, figsize=(num_images * 3, 3))  # Adjust figure size to fit all images\n",
    "    \n",
    "    if num_images == 1:\n",
    "        axes = [axes]  # If there's only one image, we need to wrap it in a list\n",
    "\n",
    "    # Display each similar image on the same row\n",
    "    for ax, (fpath, sim, embedding) in zip(axes, similar_images):\n",
    "        similar_img = resize_image(fpath)\n",
    "        ax.imshow(similar_img)\n",
    "        ax.set_title(f\"Sim: {sim:.2f}\")\n",
    "        ax.axis('off')  # Hide the axis\n",
    "\n",
    "    plt.show()"
   ]
  },
  {
   "cell_type": "code",
   "execution_count": null,
   "metadata": {},
   "outputs": [],
   "source": [
    "# find similar image to an specific image\n",
    "image_path = \"image_path.jpg\"\n",
    "display_similar_images(image_path)"
   ]
  },
  {
   "cell_type": "code",
   "execution_count": null,
   "metadata": {},
   "outputs": [],
   "source": [
    "# check all similar images\n",
    "all_images = list_images_in_folder(\"C:/Users/User/Desktop/toprocess/\")\n",
    "for img in all_images:\n",
    "    display_similar_images(img)\n",
    "    print(\"\\n   \\n\")"
   ]
  }
 ],
 "metadata": {
  "kernelspec": {
   "display_name": ".venv",
   "language": "python",
   "name": "python3"
  },
  "language_info": {
   "codemirror_mode": {
    "name": "ipython",
    "version": 3
   },
   "file_extension": ".py",
   "mimetype": "text/x-python",
   "name": "python",
   "nbconvert_exporter": "python",
   "pygments_lexer": "ipython3",
   "version": "3.9.5"
  }
 },
 "nbformat": 4,
 "nbformat_minor": 2
}
