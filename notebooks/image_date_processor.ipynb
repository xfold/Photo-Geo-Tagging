{
 "cells": [
  {
   "cell_type": "markdown",
   "metadata": {},
   "source": [
    "# Image date processor\n",
    "Example notebook that adds exif date to every picture based on it's file name.\n",
    "Then these pics could be uploaded to e.g. google photos and they will be sorted by date correctly.\n",
    "Filenames accepted:\n",
    "- `IMG-YYYYMMDD-WA####.extension`. This pattern matches filenames starting with IMG-, followed by an 8-digit date (formatted as YYYYMMDD), a dash, and then WA followed by exactly 4 digits. The filename must end with one of the specified extensions (jpg, jpeg, etc.); e.g. `IMG-20231005-WA1234.jpg` or `IMG-20211225-WA4321.jpeg`\n",
    "- `WhatsApp Image YYYY-MM-DD at HH.MM.SS (optional_number).extension`. This pattern matches filenames that start with WhatsApp Image, followed by a date in YYYY-MM-DD format, the phrase \"at\", and then a time in HH.MM.SS format. The filename may optionally include a space and a number in parentheses (like (1) or (10)), and it must end with one of the specified extensions (jpg, jpeg, etc.); e.g. `WhatsApp Image 2024-08-18 at 21.19.13.jpeg` or `WhatsApp Image 2024-08-18 at 22.25.24 (1).jpg`.\n",
    "\n",
    "A copy of the original images is saved in the output folder with their exifs uptaded."
   ]
  },
  {
   "cell_type": "code",
   "execution_count": 1,
   "metadata": {},
   "outputs": [],
   "source": [
    "import sys\n",
    "import os\n",
    "\n",
    "# Add src directory to the Python path\n",
    "sys.path.append(os.path.abspath('../src'))\n",
    "\n",
    "from ImageProcessor import ImageProcessor"
   ]
  },
  {
   "cell_type": "code",
   "execution_count": null,
   "metadata": {},
   "outputs": [],
   "source": [
    "# Example usage:\n",
    "processor = ImageProcessor()\n",
    "filters = ['jpg', 'jpeg']\n",
    "folder_path = 'C:/Users/User/Desktop/toprocess/'\n",
    "folder_path_exif = 'C:/Users/User/Desktop/toprocess/pictokeep_clean_exif/'\n",
    "\n",
    "processor.process_images_with_exif(folder_path, folder_path_exif, filters, verbose=True)"
   ]
  }
 ],
 "metadata": {
  "kernelspec": {
   "display_name": ".venv",
   "language": "python",
   "name": "python3"
  },
  "language_info": {
   "codemirror_mode": {
    "name": "ipython",
    "version": 3
   },
   "file_extension": ".py",
   "mimetype": "text/x-python",
   "name": "python",
   "nbconvert_exporter": "python",
   "pygments_lexer": "ipython3",
   "version": "3.9.5"
  }
 },
 "nbformat": 4,
 "nbformat_minor": 2
}
