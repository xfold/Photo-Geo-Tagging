{
 "cells": [
  {
   "cell_type": "code",
   "execution_count": null,
   "metadata": {},
   "outputs": [],
   "source": [
    "import photo_geo_tagger"
   ]
  },
  {
   "cell_type": "markdown",
   "metadata": {},
   "source": [
    "# 1. First we generate the exif map with locations based on our pictures with EXIF info"
   ]
  },
  {
   "cell_type": "code",
   "execution_count": null,
   "metadata": {},
   "outputs": [],
   "source": [
    "camera_roll_example_path = 'data/pics_gphotos/'\n",
    "df = photo_geo_tagger.create_exif_map(camera_roll_example_path, \n",
    "                min_gps_threshold_similar=3,\n",
    "                min_seconds_threshold_similar=1800, \n",
    "                output_exif_map='location_mapping.csv',\n",
    "                name_filters_l=['.jpg', '.jpeg'],\n",
    "                copy_grouped_pics_path=None)"
   ]
  },
  {
   "cell_type": "markdown",
   "metadata": {},
   "source": [
    "# 2. Then we map the EXIF data into the new pictures, and clone them in a new folder"
   ]
  },
  {
   "cell_type": "code",
   "execution_count": null,
   "metadata": {},
   "outputs": [],
   "source": [
    "photo_geo_tagger.map_images(\"data/pics_whatsapp/\",\n",
    "               \"data/pics_whatsapp_exif/\",\n",
    "               name_filters_l = ['.jpg', '.jpeg'],\n",
    "               location_mapping_csv = \"location_mapping.csv\",\n",
    "              )"
   ]
  },
  {
   "cell_type": "code",
   "execution_count": null,
   "metadata": {},
   "outputs": [],
   "source": []
  }
 ],
 "metadata": {
  "kernelspec": {
   "display_name": "Python 3.9.5 64-bit",
   "language": "python",
   "name": "python3"
  },
  "language_info": {
   "codemirror_mode": {
    "name": "ipython",
    "version": 3
   },
   "file_extension": ".py",
   "mimetype": "text/x-python",
   "name": "python",
   "nbconvert_exporter": "python",
   "pygments_lexer": "ipython3",
   "version": "3.9.5"
  },
  "orig_nbformat": 4,
  "vscode": {
   "interpreter": {
    "hash": "81794d4967e6c3204c66dcd87b604927b115b27c00565d3d43f05ba2f3a2cb0d"
   }
  }
 },
 "nbformat": 4,
 "nbformat_minor": 2
}
